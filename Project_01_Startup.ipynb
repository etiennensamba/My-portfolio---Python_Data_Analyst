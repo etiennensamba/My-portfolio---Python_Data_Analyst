{
 "cells": [
  {
   "cell_type": "markdown",
   "id": "5cca98da",
   "metadata": {},
   "source": [
    "In this first project, we will analyze the startups in the world"
   ]
  },
  {
   "cell_type": "code",
   "execution_count": 331,
   "id": "15186372",
   "metadata": {},
   "outputs": [],
   "source": [
    "import pandas as pd\n",
    "import matplotlib.pyplot as plt\n",
    "import seaborn as sns"
   ]
  },
  {
   "cell_type": "code",
   "execution_count": 332,
   "id": "85a60ef7",
   "metadata": {
    "scrolled": true
   },
   "outputs": [
    {
     "data": {
      "text/html": [
       "<div>\n",
       "<style scoped>\n",
       "    .dataframe tbody tr th:only-of-type {\n",
       "        vertical-align: middle;\n",
       "    }\n",
       "\n",
       "    .dataframe tbody tr th {\n",
       "        vertical-align: top;\n",
       "    }\n",
       "\n",
       "    .dataframe thead th {\n",
       "        text-align: right;\n",
       "    }\n",
       "</style>\n",
       "<table border=\"1\" class=\"dataframe\">\n",
       "  <thead>\n",
       "    <tr style=\"text-align: right;\">\n",
       "      <th></th>\n",
       "      <th>Unnamed: 0</th>\n",
       "      <th>Company</th>\n",
       "      <th>Valuation ($B)</th>\n",
       "      <th>Date Joined</th>\n",
       "      <th>Country</th>\n",
       "      <th>City</th>\n",
       "      <th>Industry</th>\n",
       "      <th>Select Investors</th>\n",
       "    </tr>\n",
       "  </thead>\n",
       "  <tbody>\n",
       "    <tr>\n",
       "      <th>0</th>\n",
       "      <td>0</td>\n",
       "      <td>Bytedance</td>\n",
       "      <td>$140</td>\n",
       "      <td>4/7/2017</td>\n",
       "      <td>China</td>\n",
       "      <td>Beijing</td>\n",
       "      <td>Artificial intelligence</td>\n",
       "      <td>Sequoia Capital China, SIG Asia Investments, S...</td>\n",
       "    </tr>\n",
       "    <tr>\n",
       "      <th>1</th>\n",
       "      <td>1</td>\n",
       "      <td>SpaceX</td>\n",
       "      <td>$100.3</td>\n",
       "      <td>12/1/2012</td>\n",
       "      <td>United States</td>\n",
       "      <td>Hawthorne</td>\n",
       "      <td>Other</td>\n",
       "      <td>Founders Fund, Draper Fisher Jurvetson, Rothen...</td>\n",
       "    </tr>\n",
       "    <tr>\n",
       "      <th>2</th>\n",
       "      <td>2</td>\n",
       "      <td>Stripe</td>\n",
       "      <td>$95</td>\n",
       "      <td>1/23/2014</td>\n",
       "      <td>United States</td>\n",
       "      <td>San Francisco</td>\n",
       "      <td>Fintech</td>\n",
       "      <td>Khosla Ventures, LowercaseCapital, capitalG</td>\n",
       "    </tr>\n",
       "    <tr>\n",
       "      <th>3</th>\n",
       "      <td>3</td>\n",
       "      <td>Klarna</td>\n",
       "      <td>$45.6</td>\n",
       "      <td>12/12/2011</td>\n",
       "      <td>Sweden</td>\n",
       "      <td>Stockholm</td>\n",
       "      <td>Fintech</td>\n",
       "      <td>Institutional Venture Partners, Sequoia Capita...</td>\n",
       "    </tr>\n",
       "    <tr>\n",
       "      <th>4</th>\n",
       "      <td>4</td>\n",
       "      <td>Canva</td>\n",
       "      <td>$40</td>\n",
       "      <td>1/8/2018</td>\n",
       "      <td>Australia</td>\n",
       "      <td>Surry Hills</td>\n",
       "      <td>Internet software &amp; services</td>\n",
       "      <td>Sequoia Capital China, Blackbird Ventures, Mat...</td>\n",
       "    </tr>\n",
       "  </tbody>\n",
       "</table>\n",
       "</div>"
      ],
      "text/plain": [
       "   Unnamed: 0    Company Valuation ($B) Date Joined        Country  \\\n",
       "0           0  Bytedance           $140    4/7/2017          China   \n",
       "1           1     SpaceX         $100.3   12/1/2012  United States   \n",
       "2           2     Stripe            $95   1/23/2014  United States   \n",
       "3           3     Klarna          $45.6  12/12/2011         Sweden   \n",
       "4           4      Canva            $40    1/8/2018      Australia   \n",
       "\n",
       "            City                      Industry  \\\n",
       "0        Beijing       Artificial intelligence   \n",
       "1      Hawthorne                         Other   \n",
       "2  San Francisco                       Fintech   \n",
       "3      Stockholm                       Fintech   \n",
       "4    Surry Hills  Internet software & services   \n",
       "\n",
       "                                    Select Investors  \n",
       "0  Sequoia Capital China, SIG Asia Investments, S...  \n",
       "1  Founders Fund, Draper Fisher Jurvetson, Rothen...  \n",
       "2        Khosla Ventures, LowercaseCapital, capitalG  \n",
       "3  Institutional Venture Partners, Sequoia Capita...  \n",
       "4  Sequoia Capital China, Blackbird Ventures, Mat...  "
      ]
     },
     "execution_count": 332,
     "metadata": {},
     "output_type": "execute_result"
    }
   ],
   "source": [
    "Project = pd.read_csv('Startups in 2021 end.csv')\n",
    "Project.head()"
   ]
  },
  {
   "cell_type": "code",
   "execution_count": 333,
   "id": "287b818b",
   "metadata": {},
   "outputs": [
    {
     "data": {
      "text/plain": [
       "(936, 8)"
      ]
     },
     "execution_count": 333,
     "metadata": {},
     "output_type": "execute_result"
    }
   ],
   "source": [
    "Project.shape"
   ]
  },
  {
   "cell_type": "code",
   "execution_count": 334,
   "id": "5b6ae09d",
   "metadata": {},
   "outputs": [
    {
     "data": {
      "text/plain": [
       "Index(['Unnamed: 0', 'Company', 'Valuation ($B)', 'Date Joined', 'Country',\n",
       "       'City', 'Industry', 'Select Investors'],\n",
       "      dtype='object')"
      ]
     },
     "execution_count": 334,
     "metadata": {},
     "output_type": "execute_result"
    }
   ],
   "source": [
    "Project.columns"
   ]
  },
  {
   "cell_type": "code",
   "execution_count": 335,
   "id": "cb6c56af",
   "metadata": {},
   "outputs": [
    {
     "data": {
      "text/html": [
       "<div>\n",
       "<style scoped>\n",
       "    .dataframe tbody tr th:only-of-type {\n",
       "        vertical-align: middle;\n",
       "    }\n",
       "\n",
       "    .dataframe tbody tr th {\n",
       "        vertical-align: top;\n",
       "    }\n",
       "\n",
       "    .dataframe thead th {\n",
       "        text-align: right;\n",
       "    }\n",
       "</style>\n",
       "<table border=\"1\" class=\"dataframe\">\n",
       "  <thead>\n",
       "    <tr style=\"text-align: right;\">\n",
       "      <th></th>\n",
       "      <th>Company</th>\n",
       "      <th>Valuation ($B)</th>\n",
       "      <th>Date Joined</th>\n",
       "      <th>Country</th>\n",
       "      <th>City</th>\n",
       "      <th>Industry</th>\n",
       "      <th>Select Investors</th>\n",
       "    </tr>\n",
       "    <tr>\n",
       "      <th>Index</th>\n",
       "      <th></th>\n",
       "      <th></th>\n",
       "      <th></th>\n",
       "      <th></th>\n",
       "      <th></th>\n",
       "      <th></th>\n",
       "      <th></th>\n",
       "    </tr>\n",
       "  </thead>\n",
       "  <tbody>\n",
       "    <tr>\n",
       "      <th>0</th>\n",
       "      <td>Bytedance</td>\n",
       "      <td>$140</td>\n",
       "      <td>4/7/2017</td>\n",
       "      <td>China</td>\n",
       "      <td>Beijing</td>\n",
       "      <td>Artificial intelligence</td>\n",
       "      <td>Sequoia Capital China, SIG Asia Investments, S...</td>\n",
       "    </tr>\n",
       "    <tr>\n",
       "      <th>1</th>\n",
       "      <td>SpaceX</td>\n",
       "      <td>$100.3</td>\n",
       "      <td>12/1/2012</td>\n",
       "      <td>United States</td>\n",
       "      <td>Hawthorne</td>\n",
       "      <td>Other</td>\n",
       "      <td>Founders Fund, Draper Fisher Jurvetson, Rothen...</td>\n",
       "    </tr>\n",
       "    <tr>\n",
       "      <th>2</th>\n",
       "      <td>Stripe</td>\n",
       "      <td>$95</td>\n",
       "      <td>1/23/2014</td>\n",
       "      <td>United States</td>\n",
       "      <td>San Francisco</td>\n",
       "      <td>Fintech</td>\n",
       "      <td>Khosla Ventures, LowercaseCapital, capitalG</td>\n",
       "    </tr>\n",
       "    <tr>\n",
       "      <th>3</th>\n",
       "      <td>Klarna</td>\n",
       "      <td>$45.6</td>\n",
       "      <td>12/12/2011</td>\n",
       "      <td>Sweden</td>\n",
       "      <td>Stockholm</td>\n",
       "      <td>Fintech</td>\n",
       "      <td>Institutional Venture Partners, Sequoia Capita...</td>\n",
       "    </tr>\n",
       "    <tr>\n",
       "      <th>4</th>\n",
       "      <td>Canva</td>\n",
       "      <td>$40</td>\n",
       "      <td>1/8/2018</td>\n",
       "      <td>Australia</td>\n",
       "      <td>Surry Hills</td>\n",
       "      <td>Internet software &amp; services</td>\n",
       "      <td>Sequoia Capital China, Blackbird Ventures, Mat...</td>\n",
       "    </tr>\n",
       "  </tbody>\n",
       "</table>\n",
       "</div>"
      ],
      "text/plain": [
       "         Company Valuation ($B) Date Joined        Country           City  \\\n",
       "Index                                                                       \n",
       "0      Bytedance           $140    4/7/2017          China        Beijing   \n",
       "1         SpaceX         $100.3   12/1/2012  United States      Hawthorne   \n",
       "2         Stripe            $95   1/23/2014  United States  San Francisco   \n",
       "3         Klarna          $45.6  12/12/2011         Sweden      Stockholm   \n",
       "4          Canva            $40    1/8/2018      Australia    Surry Hills   \n",
       "\n",
       "                           Industry  \\\n",
       "Index                                 \n",
       "0           Artificial intelligence   \n",
       "1                             Other   \n",
       "2                           Fintech   \n",
       "3                           Fintech   \n",
       "4      Internet software & services   \n",
       "\n",
       "                                        Select Investors  \n",
       "Index                                                     \n",
       "0      Sequoia Capital China, SIG Asia Investments, S...  \n",
       "1      Founders Fund, Draper Fisher Jurvetson, Rothen...  \n",
       "2            Khosla Ventures, LowercaseCapital, capitalG  \n",
       "3      Institutional Venture Partners, Sequoia Capita...  \n",
       "4      Sequoia Capital China, Blackbird Ventures, Mat...  "
      ]
     },
     "execution_count": 335,
     "metadata": {},
     "output_type": "execute_result"
    }
   ],
   "source": [
    "Project = Project.rename(columns={'Unnamed: 0': 'Index'}).set_index('Index')\n",
    "Project.head()"
   ]
  },
  {
   "cell_type": "code",
   "execution_count": 336,
   "id": "e39da942",
   "metadata": {},
   "outputs": [
    {
     "data": {
      "text/plain": [
       "Company              0\n",
       "Valuation ($B)       0\n",
       "Date Joined          0\n",
       "Country              0\n",
       "City                15\n",
       "Industry             0\n",
       "Select Investors     1\n",
       "dtype: int64"
      ]
     },
     "execution_count": 336,
     "metadata": {},
     "output_type": "execute_result"
    }
   ],
   "source": [
    "Project.isnull().sum()"
   ]
  },
  {
   "cell_type": "code",
   "execution_count": 337,
   "id": "4d086ed6",
   "metadata": {},
   "outputs": [
    {
     "data": {
      "image/png": "[encoded data removed]",
      "text/plain": [
       "<Figure size 1008x360 with 1 Axes>"
      ]
     },
     "metadata": {
      "needs_background": "light"
     },
     "output_type": "display_data"
    }
   ],
   "source": [
    "plt.figure( figsize=(14,5) )\n",
    "plt.title('Null field analysis', fontsize=20, fontweight= 600 )\n",
    "sns.heatmap( Project.isnull(), cbar=False );"
   ]
  },
  {
   "cell_type": "code",
   "execution_count": 338,
   "id": "dd92af4c",
   "metadata": {},
   "outputs": [],
   "source": [
    "Project = Project.dropna()"
   ]
  },
  {
   "cell_type": "code",
   "execution_count": 339,
   "id": "8359223f",
   "metadata": {},
   "outputs": [
    {
     "name": "stdout",
     "output_type": "stream",
     "text": [
      "<class 'pandas.core.frame.DataFrame'>\n",
      "Int64Index: 920 entries, 0 to 935\n",
      "Data columns (total 7 columns):\n",
      " #   Column            Non-Null Count  Dtype \n",
      "---  ------            --------------  ----- \n",
      " 0   Company           920 non-null    object\n",
      " 1   Valuation ($B)    920 non-null    object\n",
      " 2   Date Joined       920 non-null    object\n",
      " 3   Country           920 non-null    object\n",
      " 4   City              920 non-null    object\n",
      " 5   Industry          920 non-null    object\n",
      " 6   Select Investors  920 non-null    object\n",
      "dtypes: object(7)\n",
      "memory usage: 57.5+ KB\n"
     ]
    }
   ],
   "source": [
    "Project.info()"
   ]
  },
  {
   "cell_type": "code",
   "execution_count": 340,
   "id": "6bb6bf37",
   "metadata": {},
   "outputs": [
    {
     "data": {
      "text/plain": [
       "Company             919\n",
       "Valuation ($B)      192\n",
       "Date Joined         587\n",
       "Country              46\n",
       "City                239\n",
       "Industry             17\n",
       "Select Investors    905\n",
       "dtype: int64"
      ]
     },
     "execution_count": 340,
     "metadata": {},
     "output_type": "execute_result"
    }
   ],
   "source": [
    "Project.nunique()"
   ]
  },
  {
   "cell_type": "code",
   "execution_count": 341,
   "id": "b9273628",
   "metadata": {},
   "outputs": [
    {
     "data": {
      "text/plain": [
       "array(['Bytedance', 'SpaceX', 'Stripe', 'Klarna', 'Canva', 'Instacart',\n",
       "       'Databricks', 'Revolut', 'Nubank', 'Epic Games', 'Chime', \"BYJU's\",\n",
       "       'Xiaohongshu', 'J&T Express', 'Fanatics', 'Yuanfudao',\n",
       "       'DJI Innovations', 'SHEIN', 'Checkout.com', 'goPuff',\n",
       "       'Plaid Technologies', 'Grammarly', 'Devoted Health', 'Faire',\n",
       "       'Brex', 'SenseTime', 'JUUL Labs', 'Bitmain Technologies',\n",
       "       'Biosplice Therapeutics', 'GoodLeap', 'ZongMu Technology',\n",
       "       'Global Switch', 'Celonis', 'Weilong', 'Lalamove', 'Ripple',\n",
       "       'Figma', 'Gusto', 'reddit', 'Talkdesk', 'Notion Labs', 'Thrasio',\n",
       "       'Digital Currency Group', 'OutSystems', 'ServiceTitan', 'HEYTEA',\n",
       "       'N26', 'Klaviyo', 'Northvolt', 'Tanium', 'Chehaoduo', 'Niantic',\n",
       "       'OYO Rooms', 'Rapyd', 'Kavak', 'Snyk', 'Nuro', 'Lacework',\n",
       "       'Tipalti', 'Tempus', 'Xingsheng Selected', 'Dream11', 'Fireblocks',\n",
       "       'Caris Life Sciences', 'Dapper Labs', 'Hopin', 'Getir', 'Netskope',\n",
       "       'Toss', 'Carta', 'Scale AI', 'Argo AI', 'Gong', 'TripActions',\n",
       "       'Gemini', 'We Doctor', 'Discord', 'Automation Anywhere', 'Ziroom',\n",
       "       'National Stock Exchange of India', 'Mollie', 'Rippling',\n",
       "       'Ola Cabs', 'Samsara Networks', 'DataRobot', 'Personio',\n",
       "       'Hinge Health', 'Black Unicorn Factory', 'Benchling',\n",
       "       'Royole Corporation', 'Yuanqi Senlin', 'Better.com', 'Wiz', 'Bolt',\n",
       "       'Attentive', 'Easyhome', 'Lianjia', 'Airtable', 'Vice Media',\n",
       "       'Cityblock Health', 'Workato', 'Postman', 'FiveTran', 'Pony.ai',\n",
       "       'Trade Republic', 'Rappi', 'Collibra', 'Blockchain.com',\n",
       "       'HashiCorp', 'OneTrust', 'QuintoAndar', 'C6 Bank',\n",
       "       'United Imaging Healthcare', 'Hello TransTech', 'Swiggy', 'Deel',\n",
       "       'Airwallex', 'Horizon Robotics', 'WM Motor', 'Ro',\n",
       "       'Howden Group Holdings', 'SambaNova Systems', 'ZEPZ', 'OakNorth',\n",
       "       'Moon Active', 'Meesho', 'Cerebral', 'Anduril', 'Lyra Health',\n",
       "       'Dataiku', 'Checkr', 'Color', 'Meizu Technology', 'Vinted',\n",
       "       'Zenefits', 'VIPKid', 'Socure', 'Monzo', 'UBTECH Robotics',\n",
       "       'Outreach', 'BetterUp', 'Arctic Wolf Networks', 'Sorare',\n",
       "       'Relativity Space', 'Miaoshou Doctor', 'Chainalysis',\n",
       "       'ThoughtSpot', 'SSENSE', 'Dataminr', 'BitPanda', 'Houzz', 'CRED',\n",
       "       'Yello Mobile', 'MEGVII', 'Greensill', 'Impossible Foods',\n",
       "       'Radiology Partners', 'Next Insurance', 'Patreon',\n",
       "       'PointClickCare', 'Zapier', 'Clubhouse', 'BrowserStack', 'Olive',\n",
       "       'iCapital Network', 'Rubrik', 'Melio', 'Vuori', 'ClickUp',\n",
       "       'Cerebras Systems', 'Farmers Business Network', 'Ramp Financial',\n",
       "       'Intarcia Therapeutics', 'StockX', 'MessageBird',\n",
       "       'Guild Education', 'Articulate', 'FalconX', 'Dutchie', 'Cohesity',\n",
       "       'VAST Data', 'GOAT', 'Noom', 'Redwood Materials', 'Papaya Global',\n",
       "       'Relativity', 'Whoop', 'Applied Intuition', 'Otto Bock HealthCare',\n",
       "       'Indigo Ag', 'Digit Insurance', 'Commure', 'Mirakl', 'Coalition',\n",
       "       'Tekion', 'Alchemy', 'Unacademy', 'MoonPay', 'Youxia Motors',\n",
       "       'OwnBackup', 'Upgrade', 'Cloudwalk', 'ECARX',\n",
       "       'Sila Nanotechnologies', 'Scopely', 'WeRide', 'Komodo Health',\n",
       "       'Dadi Cinema', 'Thumbtack', 'Flexport', 'Cedar', 'Back Market',\n",
       "       'Eruditus Executive Education', 'Blockstream', 'ConsenSys',\n",
       "       'Huitongda', 'PsiQuantum', 'SpotOn', 'Udaan', 'HighRadius',\n",
       "       'Nuvemshop', 'VANCL', 'Yixia', 'Traveloka', 'SouChe Holdings',\n",
       "       'BGL Group', 'Circle', 'Zuoyebang', 'Delhivery', 'FlixMobility',\n",
       "       'Wildlife Studios', 'Pine Labs', 'ApplyBoard', 'Razorpay',\n",
       "       'Forter', 'Calendly', 'BlockFi', 'ActiveCampaign', 'CMR Surgical',\n",
       "       'Lucid Software', 'Age of Learning', 'Carbon Health', 'ShareChat',\n",
       "       'Contentful', 'LaunchDarkly', 'Hopper', 'Seismic', 'Grafana Labs',\n",
       "       'Gorillas', 'Ola Electric Mobility', 'Sky Mavis',\n",
       "       'Celsius Network', 'Outschool', 'TradingView', 'Groww', 'Podium',\n",
       "       'Via', 'Kraken', 'OpenAI', 'Ovo', 'Workrise', 'Loft', 'OfBusiness',\n",
       "       'BharatPe', 'DriveWealth', 'Meicai', 'Icertis', 'Weee!',\n",
       "       'ContentSquare', 'Zipline', 'Graphcore', 'Illumio', 'Convoy',\n",
       "       'MasterClass', 'Transmit Security', 'Hozon Auto', 'Tradeshift',\n",
       "       'Nextiva', 'Flink', 'ManoMano', 'Sourcegraph', 'Pendo', 'Plume',\n",
       "       'Xinchao Media', 'JumpCloud', 'Vista Global', 'BYTON', 'Acronis',\n",
       "       'Side', 'Lenskart', 'Infra.Market', 'Varo Bank', 'Cato Networks',\n",
       "       'Aura', 'Vercel', 'Uala', 'Mobile Premier League', 'Cybereason',\n",
       "       'Cgtz', 'Star Charge', 'Carbon', 'PolicyBazaar', 'Paxos',\n",
       "       'Exabeam', 'BitSight Technologies', 'Trumid', 'ABL Space Systems',\n",
       "       'Bought By Many', 'Jobandtalent', 'WEMAKEPRICE',\n",
       "       'Biren Technology', 'Voodoo', 'Uptake', 'KeepTruckin',\n",
       "       'Skydance Media', 'Greenlight', 'Highspot', 'Bowery Farming',\n",
       "       'Odoo', 'Zume', 'Algolia', 'Pattern', 'Planet Labs', 'NuCom Group',\n",
       "       'MUSINSA', 'Current', 'Bitso', 'Gympass', 'Kurly', 'Reify Health',\n",
       "       'Huaqin Telecom Technology', 'YITU Technology', 'Addepar',\n",
       "       'Cockroach Labs', 'Neo4j', '1', 'FirstCry', 'Eightfold.ai',\n",
       "       'Webflow', '6Sense', 'Urban Company', 'ReCharge', 'Moveworks',\n",
       "       'Medable', 'SoundHound', 'Mambu', 'Trendy Group International',\n",
       "       'Avant', 'Tubatu.com', 'BlaBlaCar', 'Quanergy Systems', 'HuiMin',\n",
       "       'Quora', 'Improbable', 'Preferred Networks', 'Formlabs',\n",
       "       '4Paradigm', 'Calm', 'Kaseya', 'Mafengwo', 'Druva', 'Kujiale',\n",
       "       'AppsFlyer', 'Keep', 'Redis Labs', 'Xingyun Group', 'Unqork',\n",
       "       'Virta Health', 'ISN', 'Earnix', 'Guoquan Shihui', 'Arrail Dental',\n",
       "       'Clearco', 'Hive', 'KRY', 'Kajabi', 'Ethos Technologies', 'Beisen',\n",
       "       'Pipe', 'Iterable', 'Bunq', 'Clip', 'Loggi', 'MURAL', 'Pagaya',\n",
       "       '1Password', 'OCSiAl', 'XtalPi', 'Divvy Homes', 'Apeel Sciences',\n",
       "       'Opay', 'Aviatrix', 'SmartNews', 'Misfits Market', 'Spring Health',\n",
       "       'Black Sesame Technologies', 'Modern Treasury', 'Magic Leap',\n",
       "       'Tier Mobility', 'Aiven', 'ClickHouse', 'Mynt', 'Everlaw', 'Zilch',\n",
       "       'VerbIT', 'StarkWare', 'Netlify', 'Deliverr', 'SWORD Health',\n",
       "       'LTK', 'Fenbi Education', 'Starling Bank', 'InVision', 'eDaili',\n",
       "       'MX Technologies', 'Aledade', 'CoinSwitch Kuber', 'ENOVATE',\n",
       "       'CFGI', 'Automattic', 'ZocDoc', 'Diamond Foundry', 'FullStory',\n",
       "       'Lightricks', 'Opentrons', 'AIWAYS', 'Creditas', 'Trulioo',\n",
       "       'Spinny', 'Orca Security', 'Cars24', 'Apus Group',\n",
       "       \"Harry's Razor Company\", 'Allbirds', 'PAX', 'Harness',\n",
       "       'DispatchHealth', 'Unite Us', 'CircleCI', 'GoStudent', 'Pleo',\n",
       "       'Wave', 'Vestiaire Collective', 'Dragos', 'Reltio', 'H2O.ai',\n",
       "       'ZenBusiness', 'Alan', 'wefox', 'Hibob', 'Trader Interactive',\n",
       "       'Jusfoun Big Data', 'Zhubajie', 'solarisBank', 'Infinidat',\n",
       "       'Afiniti', 'Cao Cao Mobility', 'Verkada', 'ASR Microelectronics',\n",
       "       'Clari', 'Tonal', 'Skims', 'Clio', 'SafetyCulture', 'Extend',\n",
       "       'Cognite', 'ASAPP', 'SmartHR', 'Mercury', 'HomeLight', 'Truepill',\n",
       "       'Promasidor Holdings', 'Baiwang', 'Iluvatar CoreX', 'Wenheyou',\n",
       "       'Loom', 'Ximalaya FM', 'Carzone', 'Mu Sigma', 'TuJia',\n",
       "       'Mofang Living', 'Gett', 'DT Dream', 'Changingedu', 'XiaoZhu',\n",
       "       'JOLLY Information Technology', 'Yijiupi',\n",
       "       'Cambridge Mobile Telematics', 'Collective Health', 'Strava',\n",
       "       'Zenoti', 'K Health', 'Uplight', 'ID.me', 'Handshake', 'Snapdocs',\n",
       "       'Chipper Cash', 'Ledger', 'Next Silicon', 'YunQuNa', 'dbt Labs',\n",
       "       'Impact', 'OpenSea', 'SmartRecruiters', 'NotCo', 'Culture Amp',\n",
       "       'TaxBit', 'Pacaso', '1047 Games', 'Matillion', 'Persona',\n",
       "       'Whatnot', 'Ascend Money', 'Andela', 'Built', 'candy.com', 'Devo',\n",
       "       'CoinList', 'Lusha', 'CureFit', 'Yipin Shengxian',\n",
       "       'Bordrin Motors', 'Coocaa', 'Juma Peisong', 'Ouyeel', 'Gymshark',\n",
       "       'Zeta', 'M1 Finance', 'Justworks', 'SonderMind', 'Papa', 'Koudai',\n",
       "       'Symphony', 'Yidian Zixun', 'Cabify', 'Hive Box', 'Deezer', 'Away',\n",
       "       'Kong', 'Epidemic Sound', 'Yotpo', 'Rebel Foods', 'Coda',\n",
       "       'Five Star Business Finance', 'Stash', 'Phenom People', 'GupShup',\n",
       "       'Degreed', 'Astranis Space Technologies', 'ChargeBee Technologies',\n",
       "       'Scalable Capital', 'VideoAmp', 'Panther Labs', 'Veepee',\n",
       "       'DeepBlue Technology', 'Klook', 'Yaoshibang', 'At-Bay', 'Alloy',\n",
       "       'Signifyd', 'Motorway', 'Flipboard', 'Grove Collaborative',\n",
       "       'GPclub', 'Tongdun Technology', 'Alzheon', 'HeartFlow', 'Sonder',\n",
       "       'You & Mr Jones', 'InSightec', 'Everly Health', 'Manner',\n",
       "       'TalkingData', 'Innovaccer', 'DistroKid', 'Carsome', 'Konfio',\n",
       "       'Betterment', 'Flock Freight', 'YugaByte', 'Starry', 'Intercom',\n",
       "       'OVO Energy', 'Huisuanzhang', 'WTOIP', 'ezCater', 'BigID',\n",
       "       'Rec Room', 'Kuaikan Manhua', 'Marshmallow', 'Honor Technology',\n",
       "       'Mythical Games', 'Incode Technologies', 'BrewDog', 'Enflame',\n",
       "       'EQRx', 'Nexii', 'BlockDaemon', 'GalaxySpace', 'Spiber', 'Yiguo',\n",
       "       'Fair', 'Glossier', 'Workhuman', 'Qumulo', 'Dialpad', 'Starburst',\n",
       "       'Tealium', 'Public', 'Axonius', 'Savage X Fenty', 'Pipa Coding',\n",
       "       'Pilot.com', 'Aibee', 'Cava Group', 'Vectra Networks',\n",
       "       'Ada Support', 'Inari', 'Project44', 'Alation', 'Forto',\n",
       "       'SmartMore', 'Rohlik', 'Prime Medicine', 'FloQast', 'MindTickle',\n",
       "       'UpGrad', 'DailyPay', 'Oda', 'Offchain Labs', 'Copado', 'Gem',\n",
       "       'CarDekho', 'MyGlamm', 'AgentSync', 'Pristyn Care', 'Jokr',\n",
       "       'L&P Cosmetic', 'Unisound', 'Mininglamp Technology', 'Sysdig',\n",
       "       'Luoji Siwei', 'Yimidida', 'Modern Health', 'IRL', 'Tuhu',\n",
       "       'SVOLT Energy', 'LifeMiles', 'Venafi', 'Guideline',\n",
       "       'Rebellion Defense', 'Elemy', 'Doctolib', 'STORD', 'TELD',\n",
       "       'TangoMe', 'AppDirect', 'Juanpi', 'OVH', 'Eat Just',\n",
       "       'GetYourGuide', 'Ivalua', 'Sisense', 'Course Hero', 'Pharmapacks',\n",
       "       'SalesLoft', 'Sennder', 'Nexthink', 'Zego', 'Rightway', 'Sunbit',\n",
       "       'Qingting FM', 'G2', 'Hailo', 'People.ai', 'CoinDCX', 'apna',\n",
       "       'Karat', 'Enpal', 'Acko General Insurance', 'Daily Harvest',\n",
       "       'The Bank of London', 'Fundbox', 'Nxin', 'UISEE Technology',\n",
       "       '56PINGTAI', 'Rubicon Global', 'Radius Payment Solutions',\n",
       "       'Rivigo', 'Jiuxian', 'Instabase', 'Hesai Tech', 'Proterra',\n",
       "       'Sendbird', 'Density', 'Mixpanel', 'Aprogen', 'OrCam Technologies',\n",
       "       'Leap Motor', 'Lookout', 'Snapdeal', 'TechStyle Fashion Group',\n",
       "       'InMobi', 'Red Ventures', 'BeiBei', 'Lamabang', 'JimuBox',\n",
       "       'BenevolentAI', 'FXiaoKe', 'Vox Media', 'Mia.com', '58 Daojia',\n",
       "       'Womai', 'HuJiang', 'iTutorGroup', 'MindMaze', 'iCarbonX',\n",
       "       'SMS Assist', 'Kendra Scott', 'Mobvoi', 'Zhuan Zhuan',\n",
       "       'Modernizing Medicine', 'Zhaogang', 'DianRong', 'Cell C',\n",
       "       'YH Global', 'Revolution Precrafted', 'Maimai', 'Dxy.cn',\n",
       "       'Orbbec Technology', 'HMD Global', 'Huike Group', 'China Cloud',\n",
       "       'LinkDoc Technology', 'MediaMath', 'Movile', 'Kuaigou Dache',\n",
       "       'Pat McGrath Labs', 'Wacai', 'Medlinker', 'FlashEx', 'Branch',\n",
       "       'Banma Network Technologies', 'Tresata', 'Momenta', 'Hosjoy',\n",
       "       'Omio', 'TERMINUS Technology', 'BitFury', 'iFood', 'Geek+',\n",
       "       'REEF Technology', 'Globality', 'Ynsect', 'Intellifusion',\n",
       "       'Liquid', 'Poizon', 'VTS', 'SITECH DEV', 'KnowBox', 'Yanolja',\n",
       "       'Meero', 'SumUp', 'Ibotta', 'C2FO', 'Numbrs', 'Dave', 'EBANX',\n",
       "       'KK Group', 'Glovo', 'Alto Pharmacy', 'o9 Solutions', 'Hotmart',\n",
       "       'Emerging Markets Property Group', 'Quizlet', 'Orca Bio',\n",
       "       'Newlink Group', 'Infobip', 'Zwift', 'Playco', 'Socar', 'Gousto',\n",
       "       'AInnovation', 'Boom Supersonic', 'Qualia', 'DailyHunt', 'Dremio',\n",
       "       'Quantum Metric', 'News Break', 'MadeiraMadeira', 'PPRO',\n",
       "       'Splashtop', 'DriveNets', 'Flash Express', 'Axiom Space',\n",
       "       'Locus Robotics', 'Standard Cognition', 'Sentry', 'WeBull',\n",
       "       'Skydio', 'Newsela', 'Flutterwave', 'Aqua Security', 'Evidation',\n",
       "       'Sidecar Health', 'Lattice', 'Feedzai', 'Yunxuetang', 'Cameo',\n",
       "       'Fetch Rewards', 'Hyperchain', 'The Zebra', 'Clearcover', 'Groq',\n",
       "       'Fiture', 'Injective Protocol', 'Sift', 'SaltPay', 'Capsule',\n",
       "       'MOLOCO', 'Mux', 'XForcePlus', 'Firefly Aerospace', 'HoneyBook',\n",
       "       'Shift Technology', 'TensTorrent', 'Zihaiguo', 'Forte Labs',\n",
       "       'Axtria', 'Amount', 'Vise', 'Printful', 'Shippo', 'Thirty Madison',\n",
       "       'LetsGetChecked', 'EcoFlow', 'Tractable', 'Bringg', 'Claroty',\n",
       "       'JoyTunes', 'Aircall', 'SmartAsset', 'Morning Consult', 'Visier',\n",
       "       'ShipBob', 'Dream Games', 'Grofers', 'Kitopi', 'MobileCoin',\n",
       "       'Lunar', 'Amperity', 'Remote', 'Pantheon Systems', 'Xiaobing',\n",
       "       'Carson Group', 'GO1', 'Interos', 'BlackBuck', 'Unico',\n",
       "       'Human Interest', 'Bluecore', 'Freshbooks', 'Snorkel AI', 'Gelato',\n",
       "       'Maven Clinic', 'Zetwerk', 'Dunamu', 'Shield AI', 'PicsArt',\n",
       "       '1KMXC', 'Berlin Brands Group', 'Agile Robots', 'GrubMarket',\n",
       "       'Mammoth Biosciences', 'Orchard', 'Xendit', 'TrueLayer',\n",
       "       'Assembly', 'PandaDoc', 'Keenon Robotics', 'HAYDON', 'Vedantu',\n",
       "       'TrialSpark', 'Ajaib', 'Licious', 'Masterworks', 'Chronosphere',\n",
       "       'Solo.io', 'Swile', 'Zopa', 'Dental Monitoring', 'CargoX',\n",
       "       'Fabric', 'Augury', 'Moka', 'Tezign', 'Vagaro', 'Drata', 'Razor',\n",
       "       'OpenWeb', 'Contrast Security', 'Wrapbook', 'Gaussian Robotics',\n",
       "       'Mensa Brands', 'Heyday', 'PLACE', 'Stytch', 'Owkin', 'Expel',\n",
       "       'NoBroker', 'Slice', 'Thought Machine', 'Lessen', 'Clara',\n",
       "       'YipitData', 'Anyscale', 'Iodine Software', 'ReliaQuest',\n",
       "       'Pet Circle'], dtype=object)"
      ]
     },
     "execution_count": 341,
     "metadata": {},
     "output_type": "execute_result"
    }
   ],
   "source": [
    "Company = Project['Company'].unique()\n",
    "Company"
   ]
  },
  {
   "cell_type": "code",
   "execution_count": 342,
   "id": "8a4e95c4",
   "metadata": {},
   "outputs": [
    {
     "data": {
      "text/plain": [
       "Bolt                2\n",
       "Bytedance           1\n",
       "Ada Support         1\n",
       "Dialpad             1\n",
       "Starburst           1\n",
       "                   ..\n",
       "Biren Technology    1\n",
       "Voodoo              1\n",
       "Uptake              1\n",
       "KeepTruckin         1\n",
       "Pet Circle          1\n",
       "Name: Company, Length: 919, dtype: int64"
      ]
     },
     "execution_count": 342,
     "metadata": {},
     "output_type": "execute_result"
    }
   ],
   "source": [
    "Project['Company'].value_counts()"
   ]
  },
  {
   "cell_type": "code",
   "execution_count": 343,
   "id": "4aab023d",
   "metadata": {},
   "outputs": [
    {
     "data": {
      "text/html": [
       "<div>\n",
       "<style scoped>\n",
       "    .dataframe tbody tr th:only-of-type {\n",
       "        vertical-align: middle;\n",
       "    }\n",
       "\n",
       "    .dataframe tbody tr th {\n",
       "        vertical-align: top;\n",
       "    }\n",
       "\n",
       "    .dataframe thead th {\n",
       "        text-align: right;\n",
       "    }\n",
       "</style>\n",
       "<table border=\"1\" class=\"dataframe\">\n",
       "  <thead>\n",
       "    <tr style=\"text-align: right;\">\n",
       "      <th></th>\n",
       "      <th>Company</th>\n",
       "      <th>Valuation ($B)</th>\n",
       "      <th>Date Joined</th>\n",
       "      <th>Country</th>\n",
       "      <th>City</th>\n",
       "      <th>Industry</th>\n",
       "      <th>Select Investors</th>\n",
       "    </tr>\n",
       "    <tr>\n",
       "      <th>Index</th>\n",
       "      <th></th>\n",
       "      <th></th>\n",
       "      <th></th>\n",
       "      <th></th>\n",
       "      <th></th>\n",
       "      <th></th>\n",
       "      <th></th>\n",
       "    </tr>\n",
       "  </thead>\n",
       "  <tbody>\n",
       "    <tr>\n",
       "      <th>0</th>\n",
       "      <td>Bytedance</td>\n",
       "      <td>140.0</td>\n",
       "      <td>4/7/2017</td>\n",
       "      <td>China</td>\n",
       "      <td>Beijing</td>\n",
       "      <td>Artificial intelligence</td>\n",
       "      <td>Sequoia Capital China, SIG Asia Investments, S...</td>\n",
       "    </tr>\n",
       "    <tr>\n",
       "      <th>1</th>\n",
       "      <td>SpaceX</td>\n",
       "      <td>100.3</td>\n",
       "      <td>12/1/2012</td>\n",
       "      <td>United States</td>\n",
       "      <td>Hawthorne</td>\n",
       "      <td>Other</td>\n",
       "      <td>Founders Fund, Draper Fisher Jurvetson, Rothen...</td>\n",
       "    </tr>\n",
       "    <tr>\n",
       "      <th>2</th>\n",
       "      <td>Stripe</td>\n",
       "      <td>95.0</td>\n",
       "      <td>1/23/2014</td>\n",
       "      <td>United States</td>\n",
       "      <td>San Francisco</td>\n",
       "      <td>Fintech</td>\n",
       "      <td>Khosla Ventures, LowercaseCapital, capitalG</td>\n",
       "    </tr>\n",
       "    <tr>\n",
       "      <th>3</th>\n",
       "      <td>Klarna</td>\n",
       "      <td>45.6</td>\n",
       "      <td>12/12/2011</td>\n",
       "      <td>Sweden</td>\n",
       "      <td>Stockholm</td>\n",
       "      <td>Fintech</td>\n",
       "      <td>Institutional Venture Partners, Sequoia Capita...</td>\n",
       "    </tr>\n",
       "    <tr>\n",
       "      <th>4</th>\n",
       "      <td>Canva</td>\n",
       "      <td>40.0</td>\n",
       "      <td>1/8/2018</td>\n",
       "      <td>Australia</td>\n",
       "      <td>Surry Hills</td>\n",
       "      <td>Internet software &amp; services</td>\n",
       "      <td>Sequoia Capital China, Blackbird Ventures, Mat...</td>\n",
       "    </tr>\n",
       "  </tbody>\n",
       "</table>\n",
       "</div>"
      ],
      "text/plain": [
       "         Company  Valuation ($B) Date Joined        Country           City  \\\n",
       "Index                                                                        \n",
       "0      Bytedance           140.0    4/7/2017          China        Beijing   \n",
       "1         SpaceX           100.3   12/1/2012  United States      Hawthorne   \n",
       "2         Stripe            95.0   1/23/2014  United States  San Francisco   \n",
       "3         Klarna            45.6  12/12/2011         Sweden      Stockholm   \n",
       "4          Canva            40.0    1/8/2018      Australia    Surry Hills   \n",
       "\n",
       "                           Industry  \\\n",
       "Index                                 \n",
       "0           Artificial intelligence   \n",
       "1                             Other   \n",
       "2                           Fintech   \n",
       "3                           Fintech   \n",
       "4      Internet software & services   \n",
       "\n",
       "                                        Select Investors  \n",
       "Index                                                     \n",
       "0      Sequoia Capital China, SIG Asia Investments, S...  \n",
       "1      Founders Fund, Draper Fisher Jurvetson, Rothen...  \n",
       "2            Khosla Ventures, LowercaseCapital, capitalG  \n",
       "3      Institutional Venture Partners, Sequoia Capita...  \n",
       "4      Sequoia Capital China, Blackbird Ventures, Mat...  "
      ]
     },
     "execution_count": 343,
     "metadata": {},
     "output_type": "execute_result"
    }
   ],
   "source": [
    "Project['Valuation ($B)'] = pd.to_numeric(Project['Valuation ($B)'].apply(lambda line: line.replace('$', '')))\n",
    "Project.head()"
   ]
  },
  {
   "cell_type": "code",
   "execution_count": 344,
   "id": "452db2a5",
   "metadata": {},
   "outputs": [
    {
     "name": "stdout",
     "output_type": "stream",
     "text": [
      "<class 'pandas.core.frame.DataFrame'>\n",
      "Int64Index: 920 entries, 0 to 935\n",
      "Data columns (total 7 columns):\n",
      " #   Column            Non-Null Count  Dtype  \n",
      "---  ------            --------------  -----  \n",
      " 0   Company           920 non-null    object \n",
      " 1   Valuation ($B)    920 non-null    float64\n",
      " 2   Date Joined       920 non-null    object \n",
      " 3   Country           920 non-null    object \n",
      " 4   City              920 non-null    object \n",
      " 5   Industry          920 non-null    object \n",
      " 6   Select Investors  920 non-null    object \n",
      "dtypes: float64(1), object(6)\n",
      "memory usage: 57.5+ KB\n"
     ]
    }
   ],
   "source": [
    "Project.info()"
   ]
  },
  {
   "cell_type": "code",
   "execution_count": 345,
   "id": "428465fe",
   "metadata": {},
   "outputs": [
    {
     "name": "stdout",
     "output_type": "stream",
     "text": [
      "The total value of all startups is 3027.16 $B\n"
     ]
    }
   ],
   "source": [
    "Total_Valuation = Project['Valuation ($B)'].sum()\n",
    "print(f'The total value of all startups is {Total_Valuation} $B')"
   ]
  },
  {
   "cell_type": "code",
   "execution_count": 346,
   "id": "b9f0ad98",
   "metadata": {},
   "outputs": [],
   "source": [
    "import datetime"
   ]
  },
  {
   "cell_type": "code",
   "execution_count": 347,
   "id": "4c1b631b",
   "metadata": {},
   "outputs": [],
   "source": [
    "Project['Date Joined'] = pd.to_datetime(Project['Date Joined'])"
   ]
  },
  {
   "cell_type": "code",
   "execution_count": 348,
   "id": "e5c76b43",
   "metadata": {},
   "outputs": [
    {
     "name": "stdout",
     "output_type": "stream",
     "text": [
      "<class 'pandas.core.series.Series'>\n",
      "Int64Index: 920 entries, 0 to 935\n",
      "Series name: Date Joined\n",
      "Non-Null Count  Dtype         \n",
      "--------------  -----         \n",
      "920 non-null    datetime64[ns]\n",
      "dtypes: datetime64[ns](1)\n",
      "memory usage: 14.4 KB\n"
     ]
    }
   ],
   "source": [
    "Project['Date Joined'].info()"
   ]
  },
  {
   "cell_type": "code",
   "execution_count": 349,
   "id": "cca603c1",
   "metadata": {},
   "outputs": [
    {
     "data": {
      "text/plain": [
       "Index\n",
       "0   2017-04-07\n",
       "1   2012-12-01\n",
       "2   2014-01-23\n",
       "3   2011-12-12\n",
       "4   2018-01-08\n",
       "Name: Date Joined, dtype: datetime64[ns]"
      ]
     },
     "execution_count": 349,
     "metadata": {},
     "output_type": "execute_result"
    }
   ],
   "source": [
    "Project['Date Joined'].head()"
   ]
  },
  {
   "cell_type": "markdown",
   "id": "a4fdfde0",
   "metadata": {},
   "source": [
    "Para facilitar a nossa análise, vamos criar mais duas colunas que vão conter o mes e o ano"
   ]
  },
  {
   "cell_type": "code",
   "execution_count": 350,
   "id": "0cfb964a",
   "metadata": {},
   "outputs": [],
   "source": [
    "Project['Month'] = pd.DatetimeIndex(Project['Date Joined']).month\n",
    "Project['Year'] = pd.DatetimeIndex(Project['Date Joined']).year"
   ]
  },
  {
   "cell_type": "code",
   "execution_count": 351,
   "id": "d8172bb6",
   "metadata": {},
   "outputs": [
    {
     "data": {
      "text/html": [
       "<div>\n",
       "<style scoped>\n",
       "    .dataframe tbody tr th:only-of-type {\n",
       "        vertical-align: middle;\n",
       "    }\n",
       "\n",
       "    .dataframe tbody tr th {\n",
       "        vertical-align: top;\n",
       "    }\n",
       "\n",
       "    .dataframe thead th {\n",
       "        text-align: right;\n",
       "    }\n",
       "</style>\n",
       "<table border=\"1\" class=\"dataframe\">\n",
       "  <thead>\n",
       "    <tr style=\"text-align: right;\">\n",
       "      <th></th>\n",
       "      <th>Company</th>\n",
       "      <th>Valuation ($B)</th>\n",
       "      <th>Date Joined</th>\n",
       "      <th>Country</th>\n",
       "      <th>City</th>\n",
       "      <th>Industry</th>\n",
       "      <th>Select Investors</th>\n",
       "      <th>Month</th>\n",
       "      <th>Year</th>\n",
       "    </tr>\n",
       "    <tr>\n",
       "      <th>Index</th>\n",
       "      <th></th>\n",
       "      <th></th>\n",
       "      <th></th>\n",
       "      <th></th>\n",
       "      <th></th>\n",
       "      <th></th>\n",
       "      <th></th>\n",
       "      <th></th>\n",
       "      <th></th>\n",
       "    </tr>\n",
       "  </thead>\n",
       "  <tbody>\n",
       "    <tr>\n",
       "      <th>0</th>\n",
       "      <td>Bytedance</td>\n",
       "      <td>140.0</td>\n",
       "      <td>2017-04-07</td>\n",
       "      <td>China</td>\n",
       "      <td>Beijing</td>\n",
       "      <td>Artificial intelligence</td>\n",
       "      <td>Sequoia Capital China, SIG Asia Investments, S...</td>\n",
       "      <td>4</td>\n",
       "      <td>2017</td>\n",
       "    </tr>\n",
       "    <tr>\n",
       "      <th>1</th>\n",
       "      <td>SpaceX</td>\n",
       "      <td>100.3</td>\n",
       "      <td>2012-12-01</td>\n",
       "      <td>United States</td>\n",
       "      <td>Hawthorne</td>\n",
       "      <td>Other</td>\n",
       "      <td>Founders Fund, Draper Fisher Jurvetson, Rothen...</td>\n",
       "      <td>12</td>\n",
       "      <td>2012</td>\n",
       "    </tr>\n",
       "    <tr>\n",
       "      <th>2</th>\n",
       "      <td>Stripe</td>\n",
       "      <td>95.0</td>\n",
       "      <td>2014-01-23</td>\n",
       "      <td>United States</td>\n",
       "      <td>San Francisco</td>\n",
       "      <td>Fintech</td>\n",
       "      <td>Khosla Ventures, LowercaseCapital, capitalG</td>\n",
       "      <td>1</td>\n",
       "      <td>2014</td>\n",
       "    </tr>\n",
       "    <tr>\n",
       "      <th>3</th>\n",
       "      <td>Klarna</td>\n",
       "      <td>45.6</td>\n",
       "      <td>2011-12-12</td>\n",
       "      <td>Sweden</td>\n",
       "      <td>Stockholm</td>\n",
       "      <td>Fintech</td>\n",
       "      <td>Institutional Venture Partners, Sequoia Capita...</td>\n",
       "      <td>12</td>\n",
       "      <td>2011</td>\n",
       "    </tr>\n",
       "    <tr>\n",
       "      <th>4</th>\n",
       "      <td>Canva</td>\n",
       "      <td>40.0</td>\n",
       "      <td>2018-01-08</td>\n",
       "      <td>Australia</td>\n",
       "      <td>Surry Hills</td>\n",
       "      <td>Internet software &amp; services</td>\n",
       "      <td>Sequoia Capital China, Blackbird Ventures, Mat...</td>\n",
       "      <td>1</td>\n",
       "      <td>2018</td>\n",
       "    </tr>\n",
       "  </tbody>\n",
       "</table>\n",
       "</div>"
      ],
      "text/plain": [
       "         Company  Valuation ($B) Date Joined        Country           City  \\\n",
       "Index                                                                        \n",
       "0      Bytedance           140.0  2017-04-07          China        Beijing   \n",
       "1         SpaceX           100.3  2012-12-01  United States      Hawthorne   \n",
       "2         Stripe            95.0  2014-01-23  United States  San Francisco   \n",
       "3         Klarna            45.6  2011-12-12         Sweden      Stockholm   \n",
       "4          Canva            40.0  2018-01-08      Australia    Surry Hills   \n",
       "\n",
       "                           Industry  \\\n",
       "Index                                 \n",
       "0           Artificial intelligence   \n",
       "1                             Other   \n",
       "2                           Fintech   \n",
       "3                           Fintech   \n",
       "4      Internet software & services   \n",
       "\n",
       "                                        Select Investors  Month  Year  \n",
       "Index                                                                  \n",
       "0      Sequoia Capital China, SIG Asia Investments, S...      4  2017  \n",
       "1      Founders Fund, Draper Fisher Jurvetson, Rothen...     12  2012  \n",
       "2            Khosla Ventures, LowercaseCapital, capitalG      1  2014  \n",
       "3      Institutional Venture Partners, Sequoia Capita...     12  2011  \n",
       "4      Sequoia Capital China, Blackbird Ventures, Mat...      1  2018  "
      ]
     },
     "execution_count": 351,
     "metadata": {},
     "output_type": "execute_result"
    }
   ],
   "source": [
    "Project.head()"
   ]
  },
  {
   "cell_type": "code",
   "execution_count": 352,
   "id": "9ee6efe6",
   "metadata": {},
   "outputs": [
    {
     "data": {
      "text/plain": [
       "46"
      ]
     },
     "execution_count": 352,
     "metadata": {},
     "output_type": "execute_result"
    }
   ],
   "source": [
    "Project['Country'].nunique()"
   ]
  },
  {
   "cell_type": "code",
   "execution_count": 353,
   "id": "2ad12b8a",
   "metadata": {},
   "outputs": [
    {
     "data": {
      "text/plain": [
       "array(['China', 'United States', 'Sweden', 'Australia', 'United Kingdom',\n",
       "       'Brazil', 'India', 'Indonesia', 'Germany', 'Hong Kong', 'Mexico',\n",
       "       'Canada', 'Turkey', 'South Korea', 'Netherlands', 'Israel',\n",
       "       'Colombia', 'Belgium', 'Lithuania', 'Estonia', 'France', 'Austria',\n",
       "       'Ireland', 'Vietnam', 'United Arab Emirates', 'Switzerland',\n",
       "       'Argentina', 'Spain', 'Japan', 'Luxembourg', 'Nigeria',\n",
       "       'Santa Clara', 'Finland', 'Philippines', 'Denmark', 'Senegal',\n",
       "       'Bermuda', 'Norway', 'South Africa', 'Chile', 'Thailand',\n",
       "       'Malaysia', 'Czech Republic', 'Croatia', 'United States,',\n",
       "       'Indonesia,'], dtype=object)"
      ]
     },
     "execution_count": 353,
     "metadata": {},
     "output_type": "execute_result"
    }
   ],
   "source": [
    "Project['Country'].unique()"
   ]
  },
  {
   "cell_type": "code",
   "execution_count": 354,
   "id": "d7d97fe9",
   "metadata": {},
   "outputs": [
    {
     "data": {
      "text/plain": [
       "United States     477\n",
       "China             168\n",
       "India              51\n",
       "United Kingdom     37\n",
       "Germany            23\n",
       "Israel             21\n",
       "France             19\n",
       "Canada             15\n",
       "Brazil             15\n",
       "South Korea        11\n",
       "Name: Country, dtype: int64"
      ]
     },
     "execution_count": 354,
     "metadata": {},
     "output_type": "execute_result"
    }
   ],
   "source": [
    "First_Startup = Project['Country'].value_counts().head(10)\n",
    "First_Startup"
   ]
  },
  {
   "cell_type": "code",
   "execution_count": 355,
   "id": "e9be71e4",
   "metadata": {},
   "outputs": [
    {
     "data": {
      "image/png": "[encoded data removed]",
      "text/plain": [
       "<Figure size 1080x288 with 1 Axes>"
      ]
     },
     "metadata": {
      "needs_background": "light"
     },
     "output_type": "display_data"
    }
   ],
   "source": [
    "plt.figure(figsize=(15, 4))\n",
    "plt.title('List of countries with numbers of startups', fontsize=20, fontweight= 600)\n",
    "plt.plot(Project['Country'].value_counts().index, Project['Country'].value_counts() )\n",
    "plt.ylabel('Quantity', fontsize=12, color='black', fontweight= 600)\n",
    "plt.xticks(rotation = 43, ha='right')\n",
    "plt.xlabel('Country', fontsize=12, color='black', fontweight= 600);"
   ]
  },
  {
   "cell_type": "code",
   "execution_count": 356,
   "id": "c2fcefbf",
   "metadata": {},
   "outputs": [
    {
     "name": "stdout",
     "output_type": "stream",
     "text": [
      "We have 17 that make up our 2021 startup\n"
     ]
    }
   ],
   "source": [
    "Q_Industry = Project['Industry'].nunique()\n",
    "print(f'We have {Q_Industry} that make up our 2021 startup')"
   ]
  },
  {
   "cell_type": "code",
   "execution_count": 357,
   "id": "ae4728b9",
   "metadata": {},
   "outputs": [
    {
     "name": "stdout",
     "output_type": "stream",
     "text": [
      "These are the industries of our startup ['Artificial intelligence' 'Other' 'Fintech'\n",
      " 'Internet software & services' 'Supply chain, logistics, & delivery'\n",
      " 'Data management & analytics' 'Edtech' 'E-commerce & direct-to-consumer'\n",
      " 'Hardware' 'Health' 'Consumer & retail' 'Auto & transportation'\n",
      " 'Finttech' 'Cybersecurity' 'Mobile & telecommunications' 'Travel'\n",
      " 'Artificial Intelligence']\n"
     ]
    }
   ],
   "source": [
    "Names_Industry = Project['Industry'].unique()\n",
    "print(f'These are the industries of our startup {Names_Industry}')"
   ]
  },
  {
   "cell_type": "code",
   "execution_count": 358,
   "id": "608ba1fe",
   "metadata": {},
   "outputs": [
    {
     "name": "stdout",
     "output_type": "stream",
     "text": [
      "Fintech                                184\n",
      "Internet software & services           166\n",
      "E-commerce & direct-to-consumer         98\n",
      "Artificial intelligence                 67\n",
      "Health                                  63\n",
      "Other                                   51\n",
      "Supply chain, logistics, & delivery     50\n",
      "Cybersecurity                           41\n",
      "Data management & analytics             36\n",
      "Mobile & telecommunications             35\n",
      "Hardware                                32\n",
      "Auto & transportation                   29\n",
      "Edtech                                  27\n",
      "Consumer & retail                       23\n",
      "Travel                                  13\n",
      "Artificial Intelligence                  4\n",
      "Finttech                                 1\n",
      "Name: Industry, dtype: int64\n"
     ]
    }
   ],
   "source": [
    "Number_Industry = Project['Industry'].value_counts()\n",
    "print(Number_Industry)"
   ]
  },
  {
   "cell_type": "code",
   "execution_count": 359,
   "id": "f00ae4be",
   "metadata": {},
   "outputs": [
    {
     "data": {
      "image/png": "[encoded data removed]",
      "text/plain": [
       "<Figure size 1080x288 with 1 Axes>"
      ]
     },
     "metadata": {
      "needs_background": "light"
     },
     "output_type": "display_data"
    }
   ],
   "source": [
    "plt.figure(figsize = (15, 4))\n",
    "plt.title('Industry Chart', fontsize=20, fontweight= 600)\n",
    "plt.bar(Number_Industry.index, Number_Industry)\n",
    "plt.xticks(rotation = 25, ha = 'right')\n",
    "plt.ylabel('Quantity', fontsize=12, color='black', fontweight= 600)\n",
    "plt.xlabel('Startup Industry', fontsize=12, color='black', fontweight= 600);"
   ]
  },
  {
   "cell_type": "code",
   "execution_count": 360,
   "id": "f04e68fa",
   "metadata": {},
   "outputs": [
    {
     "data": {
      "text/html": [
       "<div>\n",
       "<style scoped>\n",
       "    .dataframe tbody tr th:only-of-type {\n",
       "        vertical-align: middle;\n",
       "    }\n",
       "\n",
       "    .dataframe tbody tr th {\n",
       "        vertical-align: top;\n",
       "    }\n",
       "\n",
       "    .dataframe thead th {\n",
       "        text-align: right;\n",
       "    }\n",
       "</style>\n",
       "<table border=\"1\" class=\"dataframe\">\n",
       "  <thead>\n",
       "    <tr style=\"text-align: right;\">\n",
       "      <th></th>\n",
       "      <th>Company</th>\n",
       "      <th>Valuation ($B)</th>\n",
       "      <th>Date Joined</th>\n",
       "      <th>Country</th>\n",
       "      <th>City</th>\n",
       "      <th>Industry</th>\n",
       "      <th>Select Investors</th>\n",
       "      <th>Month</th>\n",
       "      <th>Year</th>\n",
       "    </tr>\n",
       "    <tr>\n",
       "      <th>Index</th>\n",
       "      <th></th>\n",
       "      <th></th>\n",
       "      <th></th>\n",
       "      <th></th>\n",
       "      <th></th>\n",
       "      <th></th>\n",
       "      <th></th>\n",
       "      <th></th>\n",
       "      <th></th>\n",
       "    </tr>\n",
       "  </thead>\n",
       "  <tbody>\n",
       "    <tr>\n",
       "      <th>0</th>\n",
       "      <td>Bytedance</td>\n",
       "      <td>140.0</td>\n",
       "      <td>2017-04-07</td>\n",
       "      <td>China</td>\n",
       "      <td>Beijing</td>\n",
       "      <td>Artificial intelligence</td>\n",
       "      <td>Sequoia Capital China, SIG Asia Investments, S...</td>\n",
       "      <td>4</td>\n",
       "      <td>2017</td>\n",
       "    </tr>\n",
       "    <tr>\n",
       "      <th>1</th>\n",
       "      <td>SpaceX</td>\n",
       "      <td>100.3</td>\n",
       "      <td>2012-12-01</td>\n",
       "      <td>United States</td>\n",
       "      <td>Hawthorne</td>\n",
       "      <td>Other</td>\n",
       "      <td>Founders Fund, Draper Fisher Jurvetson, Rothen...</td>\n",
       "      <td>12</td>\n",
       "      <td>2012</td>\n",
       "    </tr>\n",
       "    <tr>\n",
       "      <th>2</th>\n",
       "      <td>Stripe</td>\n",
       "      <td>95.0</td>\n",
       "      <td>2014-01-23</td>\n",
       "      <td>United States</td>\n",
       "      <td>San Francisco</td>\n",
       "      <td>Fintech</td>\n",
       "      <td>Khosla Ventures, LowercaseCapital, capitalG</td>\n",
       "      <td>1</td>\n",
       "      <td>2014</td>\n",
       "    </tr>\n",
       "    <tr>\n",
       "      <th>3</th>\n",
       "      <td>Klarna</td>\n",
       "      <td>45.6</td>\n",
       "      <td>2011-12-12</td>\n",
       "      <td>Sweden</td>\n",
       "      <td>Stockholm</td>\n",
       "      <td>Fintech</td>\n",
       "      <td>Institutional Venture Partners, Sequoia Capita...</td>\n",
       "      <td>12</td>\n",
       "      <td>2011</td>\n",
       "    </tr>\n",
       "    <tr>\n",
       "      <th>4</th>\n",
       "      <td>Canva</td>\n",
       "      <td>40.0</td>\n",
       "      <td>2018-01-08</td>\n",
       "      <td>Australia</td>\n",
       "      <td>Surry Hills</td>\n",
       "      <td>Internet software &amp; services</td>\n",
       "      <td>Sequoia Capital China, Blackbird Ventures, Mat...</td>\n",
       "      <td>1</td>\n",
       "      <td>2018</td>\n",
       "    </tr>\n",
       "  </tbody>\n",
       "</table>\n",
       "</div>"
      ],
      "text/plain": [
       "         Company  Valuation ($B) Date Joined        Country           City  \\\n",
       "Index                                                                        \n",
       "0      Bytedance           140.0  2017-04-07          China        Beijing   \n",
       "1         SpaceX           100.3  2012-12-01  United States      Hawthorne   \n",
       "2         Stripe            95.0  2014-01-23  United States  San Francisco   \n",
       "3         Klarna            45.6  2011-12-12         Sweden      Stockholm   \n",
       "4          Canva            40.0  2018-01-08      Australia    Surry Hills   \n",
       "\n",
       "                           Industry  \\\n",
       "Index                                 \n",
       "0           Artificial intelligence   \n",
       "1                             Other   \n",
       "2                           Fintech   \n",
       "3                           Fintech   \n",
       "4      Internet software & services   \n",
       "\n",
       "                                        Select Investors  Month  Year  \n",
       "Index                                                                  \n",
       "0      Sequoia Capital China, SIG Asia Investments, S...      4  2017  \n",
       "1      Founders Fund, Draper Fisher Jurvetson, Rothen...     12  2012  \n",
       "2            Khosla Ventures, LowercaseCapital, capitalG      1  2014  \n",
       "3      Institutional Venture Partners, Sequoia Capita...     12  2011  \n",
       "4      Sequoia Capital China, Blackbird Ventures, Mat...      1  2018  "
      ]
     },
     "execution_count": 360,
     "metadata": {},
     "output_type": "execute_result"
    }
   ],
   "source": [
    "Project.head()"
   ]
  },
  {
   "cell_type": "code",
   "execution_count": 361,
   "id": "543f25d4",
   "metadata": {},
   "outputs": [
    {
     "data": {
      "text/html": [
       "<div>\n",
       "<style scoped>\n",
       "    .dataframe tbody tr th:only-of-type {\n",
       "        vertical-align: middle;\n",
       "    }\n",
       "\n",
       "    .dataframe tbody tr th {\n",
       "        vertical-align: top;\n",
       "    }\n",
       "\n",
       "    .dataframe thead th {\n",
       "        text-align: right;\n",
       "    }\n",
       "</style>\n",
       "<table border=\"1\" class=\"dataframe\">\n",
       "  <thead>\n",
       "    <tr style=\"text-align: right;\">\n",
       "      <th></th>\n",
       "      <th>Country</th>\n",
       "      <th>Industry</th>\n",
       "      <th>Month</th>\n",
       "      <th>Year</th>\n",
       "      <th>Index</th>\n",
       "      <th>Valuation ($B)</th>\n",
       "    </tr>\n",
       "  </thead>\n",
       "  <tbody>\n",
       "    <tr>\n",
       "      <th>0</th>\n",
       "      <td>Argentina</td>\n",
       "      <td>Fintech</td>\n",
       "      <td>8</td>\n",
       "      <td>2021</td>\n",
       "      <td>298</td>\n",
       "      <td>2.45</td>\n",
       "    </tr>\n",
       "    <tr>\n",
       "      <th>1</th>\n",
       "      <td>Australia</td>\n",
       "      <td>E-commerce &amp; direct-to-consumer</td>\n",
       "      <td>12</td>\n",
       "      <td>2021</td>\n",
       "      <td>935</td>\n",
       "      <td>1.00</td>\n",
       "    </tr>\n",
       "    <tr>\n",
       "      <th>2</th>\n",
       "      <td>Australia</td>\n",
       "      <td>Fintech</td>\n",
       "      <td>3</td>\n",
       "      <td>2019</td>\n",
       "      <td>117</td>\n",
       "      <td>5.50</td>\n",
       "    </tr>\n",
       "    <tr>\n",
       "      <th>3</th>\n",
       "      <td>Australia</td>\n",
       "      <td>Internet software &amp; services</td>\n",
       "      <td>1</td>\n",
       "      <td>2018</td>\n",
       "      <td>4</td>\n",
       "      <td>40.00</td>\n",
       "    </tr>\n",
       "    <tr>\n",
       "      <th>4</th>\n",
       "      <td>Australia</td>\n",
       "      <td>Internet software &amp; services</td>\n",
       "      <td>5</td>\n",
       "      <td>2021</td>\n",
       "      <td>467</td>\n",
       "      <td>1.60</td>\n",
       "    </tr>\n",
       "  </tbody>\n",
       "</table>\n",
       "</div>"
      ],
      "text/plain": [
       "     Country                         Industry  Month  Year  Index  \\\n",
       "0  Argentina                          Fintech      8  2021    298   \n",
       "1  Australia  E-commerce & direct-to-consumer     12  2021    935   \n",
       "2  Australia                          Fintech      3  2019    117   \n",
       "3  Australia     Internet software & services      1  2018      4   \n",
       "4  Australia     Internet software & services      5  2021    467   \n",
       "\n",
       "   Valuation ($B)  \n",
       "0            2.45  \n",
       "1            1.00  \n",
       "2            5.50  \n",
       "3           40.00  \n",
       "4            1.60  "
      ]
     },
     "metadata": {},
     "output_type": "display_data"
    }
   ],
   "source": [
    "Analisis_by_group = Project.groupby(by = ['Country', 'Industry', 'Month', \n",
    "                                         'Year', 'Index']).sum()['Valuation ($B)'].reset_index()\n",
    "display(Analisis_by_group.head())"
   ]
  },
  {
   "cell_type": "code",
   "execution_count": 362,
   "id": "3de4c40e",
   "metadata": {},
   "outputs": [
    {
     "data": {
      "text/html": [
       "<div>\n",
       "<style scoped>\n",
       "    .dataframe tbody tr th:only-of-type {\n",
       "        vertical-align: middle;\n",
       "    }\n",
       "\n",
       "    .dataframe tbody tr th {\n",
       "        vertical-align: top;\n",
       "    }\n",
       "\n",
       "    .dataframe thead th {\n",
       "        text-align: right;\n",
       "    }\n",
       "</style>\n",
       "<table border=\"1\" class=\"dataframe\">\n",
       "  <thead>\n",
       "    <tr style=\"text-align: right;\">\n",
       "      <th></th>\n",
       "      <th>Country</th>\n",
       "      <th>Valuation ($B)</th>\n",
       "    </tr>\n",
       "  </thead>\n",
       "  <tbody>\n",
       "    <tr>\n",
       "      <th>0</th>\n",
       "      <td>Argentina</td>\n",
       "      <td>2.45</td>\n",
       "    </tr>\n",
       "    <tr>\n",
       "      <th>1</th>\n",
       "      <td>Australia</td>\n",
       "      <td>50.60</td>\n",
       "    </tr>\n",
       "    <tr>\n",
       "      <th>2</th>\n",
       "      <td>Austria</td>\n",
       "      <td>5.81</td>\n",
       "    </tr>\n",
       "    <tr>\n",
       "      <th>3</th>\n",
       "      <td>Belgium</td>\n",
       "      <td>7.55</td>\n",
       "    </tr>\n",
       "    <tr>\n",
       "      <th>4</th>\n",
       "      <td>Bermuda</td>\n",
       "      <td>1.60</td>\n",
       "    </tr>\n",
       "  </tbody>\n",
       "</table>\n",
       "</div>"
      ],
      "text/plain": [
       "     Country  Valuation ($B)\n",
       "0  Argentina            2.45\n",
       "1  Australia           50.60\n",
       "2    Austria            5.81\n",
       "3    Belgium            7.55\n",
       "4    Bermuda            1.60"
      ]
     },
     "execution_count": 362,
     "metadata": {},
     "output_type": "execute_result"
    }
   ],
   "source": [
    "Analisis_by_group_Country = Project.groupby(by = ['Country']).sum()['Valuation ($B)'].reset_index()\n",
    "Analisis_by_group_Country.head()"
   ]
  },
  {
   "cell_type": "code",
   "execution_count": 363,
   "id": "9225f067",
   "metadata": {},
   "outputs": [
    {
     "data": {
      "text/html": [
       "<div>\n",
       "<style scoped>\n",
       "    .dataframe tbody tr th:only-of-type {\n",
       "        vertical-align: middle;\n",
       "    }\n",
       "\n",
       "    .dataframe tbody tr th {\n",
       "        vertical-align: top;\n",
       "    }\n",
       "\n",
       "    .dataframe thead th {\n",
       "        text-align: right;\n",
       "    }\n",
       "</style>\n",
       "<table border=\"1\" class=\"dataframe\">\n",
       "  <thead>\n",
       "    <tr style=\"text-align: right;\">\n",
       "      <th></th>\n",
       "      <th>Country</th>\n",
       "      <th>Valuation ($B)</th>\n",
       "    </tr>\n",
       "  </thead>\n",
       "  <tbody>\n",
       "    <tr>\n",
       "      <th>43</th>\n",
       "      <td>United States</td>\n",
       "      <td>1604.03</td>\n",
       "    </tr>\n",
       "    <tr>\n",
       "      <th>8</th>\n",
       "      <td>China</td>\n",
       "      <td>568.48</td>\n",
       "    </tr>\n",
       "    <tr>\n",
       "      <th>42</th>\n",
       "      <td>United Kingdom</td>\n",
       "      <td>150.29</td>\n",
       "    </tr>\n",
       "    <tr>\n",
       "      <th>18</th>\n",
       "      <td>India</td>\n",
       "      <td>148.45</td>\n",
       "    </tr>\n",
       "    <tr>\n",
       "      <th>16</th>\n",
       "      <td>Germany</td>\n",
       "      <td>66.63</td>\n",
       "    </tr>\n",
       "  </tbody>\n",
       "</table>\n",
       "</div>"
      ],
      "text/plain": [
       "           Country  Valuation ($B)\n",
       "43   United States         1604.03\n",
       "8            China          568.48\n",
       "42  United Kingdom          150.29\n",
       "18           India          148.45\n",
       "16         Germany           66.63"
      ]
     },
     "execution_count": 363,
     "metadata": {},
     "output_type": "execute_result"
    }
   ],
   "source": [
    "Value = Analisis_by_group_Country.sort_values('Valuation ($B)', ascending=False)\n",
    "Value.head()"
   ]
  },
  {
   "cell_type": "code",
   "execution_count": 364,
   "id": "2dbf6549",
   "metadata": {},
   "outputs": [
    {
     "data": {
      "image/png": "[encoded data removed]",
      "text/plain": [
       "<Figure size 1080x432 with 1 Axes>"
      ]
     },
     "metadata": {
      "needs_background": "light"
     },
     "output_type": "display_data"
    }
   ],
   "source": [
    "plt.figure( figsize=(15,6) )\n",
    "plt.plot( Value['Country'], Value['Valuation ($B)'] )\n",
    "plt.title('Value Analysis by Country', fontsize=20, color='black', fontweight= 600)\n",
    "plt.xticks( rotation=45, ha='right')\n",
    "plt.ylabel('Quantity', fontsize=12, color='black', fontweight= 600)\n",
    "plt.xlabel('Country', fontsize=12, color='black', fontweight= 600);"
   ]
  }
 ],
 "metadata": {
  "kernelspec": {
   "display_name": "Python 3 (ipykernel)",
   "language": "python",
   "name": "python3"
  },
  "language_info": {
   "codemirror_mode": {
    "name": "ipython",
    "version": 3
   },
   "file_extension": ".py",
   "mimetype": "text/x-python",
   "name": "python",
   "nbconvert_exporter": "python",
   "pygments_lexer": "ipython3",
   "version": "3.9.12"
  }
 },
 "nbformat": 4,
 "nbformat_minor": 5
}
